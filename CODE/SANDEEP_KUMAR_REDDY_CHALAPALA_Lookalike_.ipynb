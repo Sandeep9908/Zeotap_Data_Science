{
  "nbformat": 4,
  "nbformat_minor": 0,
  "metadata": {
    "colab": {
      "provenance": []
    },
    "kernelspec": {
      "name": "python3",
      "display_name": "Python 3"
    },
    "language_info": {
      "name": "python"
    }
  },
  "cells": [
    {
      "cell_type": "code",
      "execution_count": 4,
      "metadata": {
        "colab": {
          "base_uri": "https://localhost:8080/"
        },
        "id": "QiCo0JWFZAH4",
        "outputId": "30f7bf68-6d4d-4351-ebe0-00992b62f0d2"
      },
      "outputs": [
        {
          "output_type": "stream",
          "name": "stdout",
          "text": [
            "Drive already mounted at /content/gdrive; to attempt to forcibly remount, call drive.mount(\"/content/gdrive\", force_remount=True).\n",
            "Lookalike model completed. Results saved to 'Lookalike.csv'.\n"
          ]
        }
      ],
      "source": [
        "import numpy as np\n",
        "import pandas as pd\n",
        "from sklearn.cluster import KMeans\n",
        "from sklearn.metrics.pairwise import cosine_similarity\n",
        "from sklearn.preprocessing import StandardScaler\n",
        "\n",
        "# Mount Google Drive\n",
        "def mount_drive():\n",
        "    from google.colab import drive\n",
        "    drive.mount('/content/gdrive')\n",
        "\n",
        "# Load datasets\n",
        "mount_drive()\n",
        "customers = pd.read_csv('gdrive/My Drive/Zeotap/Customers.csv')\n",
        "products = pd.read_csv('gdrive/My Drive/Zeotap/Products.csv')\n",
        "transactions = pd.read_csv('gdrive/My Drive/Zeotap/Transactions.csv')\n",
        "\n",
        "# Preprocessing\n",
        "transactions['TransactionDate'] = pd.to_datetime(transactions['TransactionDate'])\n",
        "\n",
        "# Merge data\n",
        "merged_data = pd.merge(transactions, customers, on='CustomerID')\n",
        "merged_data = pd.merge(merged_data, products, on='ProductID')\n",
        "\n",
        "# Feature engineering\n",
        "customer_features = merged_data.groupby('CustomerID').agg(\n",
        "    total_spend=('TotalValue', 'sum'),\n",
        "    total_transactions=('TransactionID', 'count'),\n",
        "    avg_transaction_value=('TotalValue', 'mean'),\n",
        "    unique_products=('ProductID', 'nunique')\n",
        ").reset_index()\n",
        "\n",
        "# Clustering\n",
        "scaler = StandardScaler()\n",
        "X = scaler.fit_transform(customer_features.iloc[:, 1:])\n",
        "kmeans = KMeans(n_clusters=5, random_state=42)\n",
        "customer_features['cluster'] = kmeans.fit_predict(X)\n",
        "\n",
        "# Lookalike model\n",
        "def get_lookalikes(customer_id, data, top_n=3):\n",
        "    customer_vector = data.loc[data['CustomerID'] == customer_id, 'total_spend':'unique_products'].values\n",
        "    all_vectors = data.loc[:, 'total_spend':'unique_products'].values\n",
        "    similarities = cosine_similarity(customer_vector, all_vectors).flatten()\n",
        "    data['similarity'] = similarities\n",
        "    top_customers = data[data['CustomerID'] != customer_id].nlargest(top_n, 'similarity')[['CustomerID', 'similarity']]\n",
        "    return top_customers\n",
        "\n",
        "# Get top 3 lookalikes for first 20 customers\n",
        "lookalikes = {}\n",
        "for customer_id in customers['CustomerID'][:20]:\n",
        "    similar_customers = get_lookalikes(customer_id, customer_features)\n",
        "    lookalikes[customer_id] = similar_customers.values.tolist()\n",
        "\n",
        "# Save lookalikes to CSV\n",
        "lookalike_data = []\n",
        "for customer_id, similar_list in lookalikes.items():\n",
        "    entry = [customer_id]\n",
        "    for similar_cust_id, score in similar_list:\n",
        "        entry.extend([similar_cust_id, score])\n",
        "    lookalike_data.append(entry)\n",
        "\n",
        "# Adjust columns to match the data structure dynamically\n",
        "max_cols = max(len(row) for row in lookalike_data)\n",
        "columns = ['cust_id'] + [f'similar_customer_{i // 2 + 1}' if i % 2 == 0 else f'score_{i // 2 + 1}' for i in range(max_cols - 1)]\n",
        "lookalike_df = pd.DataFrame(lookalike_data, columns=columns)\n",
        "lookalike_df.to_csv('gdrive/My Drive/Zeotap/Lookalike.csv', index=False)\n",
        "\n",
        "# Save final notebook with results\n",
        "print(\"Lookalike model completed. Results saved to 'Lookalike.csv'.\")\n"
      ]
    }
  ]
}